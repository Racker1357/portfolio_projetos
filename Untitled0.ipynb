{
  "nbformat": 4,
  "nbformat_minor": 0,
  "metadata": {
    "colab": {
      "provenance": [],
      "authorship_tag": "ABX9TyMpbwZvBWgHrJQKwcobFi6I",
      "include_colab_link": true
    },
    "kernelspec": {
      "name": "python3",
      "display_name": "Python 3"
    },
    "language_info": {
      "name": "python"
    }
  },
  "cells": [
    {
      "cell_type": "markdown",
      "metadata": {
        "id": "view-in-github",
        "colab_type": "text"
      },
      "source": [
        "<a href=\"https://colab.research.google.com/github/Racker1357/portfolio_projetos/blob/main/Untitled0.ipynb\" target=\"_parent\"><img src=\"https://colab.research.google.com/assets/colab-badge.svg\" alt=\"Open In Colab\"/></a>"
      ]
    },
    {
      "cell_type": "code",
      "source": [
        "nome = \"igor\"\n",
        "\n",
        "if nome == \"igor\":\n",
        "  print( \"olá, igor\" )\n",
        "\n",
        "else:\n",
        "  print( \"Tchau, igor\")\n"
      ],
      "metadata": {
        "colab": {
          "base_uri": "https://localhost:8080/"
        },
        "id": "oHbWwjBTPvkF",
        "outputId": "1b142ff5-5f96-41e2-89d1-498933a1ae96"
      },
      "execution_count": 5,
      "outputs": [
        {
          "output_type": "stream",
          "name": "stdout",
          "text": [
            "olá, igor\n"
          ]
        }
      ]
    },
    {
      "cell_type": "code",
      "source": [],
      "metadata": {
        "id": "x00TAVzLR64t"
      },
      "execution_count": null,
      "outputs": []
    },
    {
      "cell_type": "markdown",
      "source": [],
      "metadata": {
        "id": "wDoBVMsDR8Tm"
      }
    },
    {
      "cell_type": "code",
      "source": [
        "nome = input( \"Escreva o nome de uma pessoas: \")\n",
        "\n",
        "if nome == \"igor\":\n",
        "  print( \"olá, igor\" )\n",
        "\n",
        "else:\n",
        "  print( \"Tchau, igor\")"
      ],
      "metadata": {
        "colab": {
          "base_uri": "https://localhost:8080/"
        },
        "id": "__UNnf7vR9Lt",
        "outputId": "4d004be2-9de6-4dc1-df58-dfb8e7358678"
      },
      "execution_count": 7,
      "outputs": [
        {
          "output_type": "stream",
          "name": "stdout",
          "text": [
            "Escreva o nome de uma pessoas: igor\n",
            "olá, igor\n"
          ]
        }
      ]
    },
    {
      "cell_type": "code",
      "source": [
        "nome = \"igor\"\n",
        "\n",
        "if nome == \"igor\":\n",
        "  print( \"olá, igor\" )\n",
        "\n",
        "else:\n",
        "  print( \"Tchau, igor\")"
      ],
      "metadata": {
        "id": "luAsTR50TNUz"
      },
      "execution_count": null,
      "outputs": []
    },
    {
      "cell_type": "markdown",
      "source": [],
      "metadata": {
        "id": "Bli3cK_KPvsm"
      }
    },
    {
      "cell_type": "markdown",
      "source": [],
      "metadata": {
        "id": "USqNoDVXPv2r"
      }
    },
    {
      "cell_type": "code",
      "source": [
        "numero01 = int( input( \"Escreva um numero: \") )\n",
        "\n",
        "soma = numero01 + 100\n",
        "\n",
        "print( soma )"
      ],
      "metadata": {
        "colab": {
          "base_uri": "https://localhost:8080/"
        },
        "id": "xQoLtneSPv-i",
        "outputId": "dc4f7ff7-f3cf-4030-c2d3-d1ebfa75bc94"
      },
      "execution_count": 14,
      "outputs": [
        {
          "output_type": "stream",
          "name": "stdout",
          "text": [
            "Escreva um numero: 10\n",
            "110\n"
          ]
        }
      ]
    },
    {
      "cell_type": "code",
      "source": [
        "valor1 = 2\n",
        "valor2 = 3\n",
        "valor3 = 5\n",
        "valor4 = 6\n",
        "valor5 = 9\n",
        "\n",
        "numerador = 5\n",
        "\n",
        "denominador =(1/valor1)+(1/valor2)+(1/valor3)+(1/valor3)+(1/valor4)+(1/valor5)\n",
        "\n",
        "media_h = numerador / denominador\n",
        "\n",
        "print('O resultado da média harmônica é:')\n",
        "print (media_h)"
      ],
      "metadata": {
        "colab": {
          "base_uri": "https://localhost:8080/"
        },
        "id": "oEP5sBiFe5Yr",
        "outputId": "df72502b-009f-4649-ba89-f8973f1b1fd8"
      },
      "execution_count": 12,
      "outputs": [
        {
          "output_type": "stream",
          "name": "stdout",
          "text": [
            "O resultado da média harmônica é:\n",
            "3.308823529411765\n"
          ]
        }
      ]
    },
    {
      "cell_type": "code",
      "source": [
        "numero01 = 53\n",
        "numero02 = 9\n",
        "numero03 = 54\n",
        "numero04 = 91\n",
        "numero05 = 84\n",
        "numero06 = 54\n",
        "numero07 = 7\n",
        "numeor08 = 51\n",
        "numero09 = 60\n",
        "numero10 = 86\n",
        "\n",
        "media = (numero01+numero02+numero03+numero04+numero05+numero06+numero07+numero08+numero09+numero10)/10\n",
        "\n",
        "somatorio = ((numero01 -media)**2+(numero02 -media)**2+(numero03 -media)**2+(numero04 -media)**2+(numero05 -media)**2+(numero06 -media)**2+(numero07 -media)**2+(numero08 -media)**2+(numero09 -media)**2+(numero10 -media)**2)\n",
        "\n",
        "desvio = (somatorio/9)**(1/2)\n",
        "\n",
        "print(desvio)\n",
        "\n",
        "\n",
        "\n",
        "\n",
        "\n"
      ],
      "metadata": {
        "colab": {
          "base_uri": "https://localhost:8080/",
          "height": 262
        },
        "id": "Lx_ZDVSfrBY8",
        "outputId": "ad3ca8a0-920a-4893-eded-910dfb5a4a28"
      },
      "execution_count": 25,
      "outputs": [
        {
          "output_type": "error",
          "ename": "NameError",
          "evalue": "ignored",
          "traceback": [
            "\u001b[0;31m---------------------------------------------------------------------------\u001b[0m",
            "\u001b[0;31mNameError\u001b[0m                                 Traceback (most recent call last)",
            "\u001b[0;32m<ipython-input-25-95dfce06ee12>\u001b[0m in \u001b[0;36m<cell line: 12>\u001b[0;34m()\u001b[0m\n\u001b[1;32m     10\u001b[0m \u001b[0mnumero10\u001b[0m \u001b[0;34m=\u001b[0m \u001b[0;36m86\u001b[0m\u001b[0;34m\u001b[0m\u001b[0;34m\u001b[0m\u001b[0m\n\u001b[1;32m     11\u001b[0m \u001b[0;34m\u001b[0m\u001b[0m\n\u001b[0;32m---> 12\u001b[0;31m \u001b[0mmedia\u001b[0m \u001b[0;34m=\u001b[0m \u001b[0;34m(\u001b[0m\u001b[0mnumero01\u001b[0m\u001b[0;34m+\u001b[0m\u001b[0mnumero02\u001b[0m\u001b[0;34m+\u001b[0m\u001b[0mnumero03\u001b[0m\u001b[0;34m+\u001b[0m\u001b[0mnumero04\u001b[0m\u001b[0;34m+\u001b[0m\u001b[0mnumero05\u001b[0m\u001b[0;34m+\u001b[0m\u001b[0mnumero06\u001b[0m\u001b[0;34m+\u001b[0m\u001b[0mnumero07\u001b[0m\u001b[0;34m+\u001b[0m\u001b[0mnumero08\u001b[0m\u001b[0;34m+\u001b[0m\u001b[0mnumero09\u001b[0m\u001b[0;34m+\u001b[0m\u001b[0mnumero10\u001b[0m\u001b[0;34m)\u001b[0m\u001b[0;34m/\u001b[0m\u001b[0;36m10\u001b[0m\u001b[0;34m\u001b[0m\u001b[0;34m\u001b[0m\u001b[0m\n\u001b[0m\u001b[1;32m     13\u001b[0m \u001b[0;34m\u001b[0m\u001b[0m\n\u001b[1;32m     14\u001b[0m \u001b[0msomatorio\u001b[0m \u001b[0;34m=\u001b[0m \u001b[0;34m(\u001b[0m\u001b[0;34m(\u001b[0m\u001b[0mnumero01\u001b[0m \u001b[0;34m-\u001b[0m\u001b[0mmedia\u001b[0m\u001b[0;34m)\u001b[0m\u001b[0;34m**\u001b[0m\u001b[0;36m2\u001b[0m\u001b[0;34m+\u001b[0m\u001b[0;34m(\u001b[0m\u001b[0mnumero02\u001b[0m \u001b[0;34m-\u001b[0m\u001b[0mmedia\u001b[0m\u001b[0;34m)\u001b[0m\u001b[0;34m**\u001b[0m\u001b[0;36m2\u001b[0m\u001b[0;34m+\u001b[0m\u001b[0;34m(\u001b[0m\u001b[0mnumero03\u001b[0m \u001b[0;34m-\u001b[0m\u001b[0mmedia\u001b[0m\u001b[0;34m)\u001b[0m\u001b[0;34m**\u001b[0m\u001b[0;36m2\u001b[0m\u001b[0;34m+\u001b[0m\u001b[0;34m(\u001b[0m\u001b[0mnumero04\u001b[0m \u001b[0;34m-\u001b[0m\u001b[0mmedia\u001b[0m\u001b[0;34m)\u001b[0m\u001b[0;34m**\u001b[0m\u001b[0;36m2\u001b[0m\u001b[0;34m+\u001b[0m\u001b[0;34m(\u001b[0m\u001b[0mnumero05\u001b[0m \u001b[0;34m-\u001b[0m\u001b[0mmedia\u001b[0m\u001b[0;34m)\u001b[0m\u001b[0;34m**\u001b[0m\u001b[0;36m2\u001b[0m\u001b[0;34m+\u001b[0m\u001b[0;34m(\u001b[0m\u001b[0mnumero06\u001b[0m \u001b[0;34m-\u001b[0m\u001b[0mmedia\u001b[0m\u001b[0;34m)\u001b[0m\u001b[0;34m**\u001b[0m\u001b[0;36m2\u001b[0m\u001b[0;34m+\u001b[0m\u001b[0;34m(\u001b[0m\u001b[0mnumero07\u001b[0m \u001b[0;34m-\u001b[0m\u001b[0mmedia\u001b[0m\u001b[0;34m)\u001b[0m\u001b[0;34m**\u001b[0m\u001b[0;36m2\u001b[0m\u001b[0;34m+\u001b[0m\u001b[0;34m(\u001b[0m\u001b[0mnumero08\u001b[0m \u001b[0;34m-\u001b[0m\u001b[0mmedia\u001b[0m\u001b[0;34m)\u001b[0m\u001b[0;34m**\u001b[0m\u001b[0;36m2\u001b[0m\u001b[0;34m+\u001b[0m\u001b[0;34m(\u001b[0m\u001b[0mnumero09\u001b[0m \u001b[0;34m-\u001b[0m\u001b[0mmedia\u001b[0m\u001b[0;34m)\u001b[0m\u001b[0;34m**\u001b[0m\u001b[0;36m2\u001b[0m\u001b[0;34m+\u001b[0m\u001b[0;34m(\u001b[0m\u001b[0mnumero10\u001b[0m \u001b[0;34m-\u001b[0m\u001b[0mmedia\u001b[0m\u001b[0;34m)\u001b[0m\u001b[0;34m**\u001b[0m\u001b[0;36m2\u001b[0m\u001b[0;34m)\u001b[0m\u001b[0;34m\u001b[0m\u001b[0;34m\u001b[0m\u001b[0m\n",
            "\u001b[0;31mNameError\u001b[0m: name 'numero08' is not defined"
          ]
        }
      ]
    },
    {
      "cell_type": "markdown",
      "source": [],
      "metadata": {
        "id": "uruGWsSK1sAJ"
      }
    }
  ]
}